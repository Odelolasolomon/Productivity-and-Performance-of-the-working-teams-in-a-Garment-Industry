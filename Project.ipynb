{
 "cells": [
  {
   "cell_type": "markdown",
   "id": "4d257aba",
   "metadata": {},
   "source": [
    "##   Introduction\n",
    "Welcome to the guided project for the **Decision Tree and Random Forest Modeling in Python course!** Like other courses at Dataquest, it's time to apply everything we learned during the lessons!\n",
    "\n",
    "On the right side of your screen, there is a Jupyter Notebook instance ready and waiting. However, you also have the option to work on your local computer by downloading the Anaconda suite.\n",
    "\n",
    "For this guided project, we'll be introducing the dataset Productivity Prediction of Garment Employees. The original dataset is in the UCI Machine Learning Repository https://archive.ics.uci.edu/ml/datasets/Productivity+Prediction+of+Garment+Employees. Below is a description of the dataset, according to its official summary:\n",
    "\n",
    "The garment industry is one of the key examples of the industrial globalization of the modern era.\n",
    "\n",
    "It is a highly labour-intensive industry with lots of manual processes. Satisfying the huge global demand for garment products is mostly dependent on the production and delivery performance of the employees in the garment manufacturing companies.\n",
    "\n",
    "So, it is highly desirable among the decision-makers in the garments industry to track, analyze, and predict the productivity performance of the working teams in their factories.\n",
    "\n",
    "<img src='garment.jpg' width=500 height=400>"
   ]
  },
  {
   "cell_type": "markdown",
   "id": "02550345",
   "metadata": {},
   "source": [
    "What's interesting about the dataset is that we can use it with both regression and classification algorithms, as is clearly stated in the final sentence of the official summary:\n",
    "\n",
    "This dataset can be used for regression purposes by predicting the productivity range (0-1) or for classification purposes by transforming the productivity range (0-1) into different classes.\n",
    "\n",
    "The instructions you'll find on the following screens focus on working with a classification tree. However, like many guided projects, the instructions serve only as general guidance. In this sense, the proposed solution available here https://github.com/dataquestio/solutions/blob/master/Mission755Solutions.ipynb is one of many possible, and we encourage you to work with the dataset however you like.\n",
    "\n",
    "After all, the more personalized your guided project is, the better! If you decide to upload it to your personal repository, this will help you showcase your individual skill-set to potential employers!\n",
    "\n",
    "Finally, on a related note, and regarding this level of freedom, don't get discouraged if you get stuck. Remember that solving these kinds of problems is an integral part of the learning process. You've come a long way since the beginning of your data science journey, and considering how advanced you already are, it's unlikely that you will find an obstacle that you can't surpass!\n",
    "\n",
    "Know that it's okay to revisit previous lessons to refresh your memory if/when you get stuck. You can always consult sites like Stack Overflow https://stackoverflow.com/ or use a search engine if you can't remember the exact syntax or if you receive an error you don't know how to resolve. This is normal, and it's not considered \"cheating\" at all!\n",
    "\n",
    "Last but not least, you can interact with your fellow students through the official Dataquest forums.https://community.dataquest.io/"
   ]
  },
  {
   "cell_type": "code",
   "execution_count": null,
   "id": "20bde2a1",
   "metadata": {},
   "outputs": [],
   "source": []
  }
 ],
 "metadata": {
  "kernelspec": {
   "display_name": "Python 3 (ipykernel)",
   "language": "python",
   "name": "python3"
  },
  "language_info": {
   "codemirror_mode": {
    "name": "ipython",
    "version": 3
   },
   "file_extension": ".py",
   "mimetype": "text/x-python",
   "name": "python",
   "nbconvert_exporter": "python",
   "pygments_lexer": "ipython3",
   "version": "3.9.13"
  }
 },
 "nbformat": 4,
 "nbformat_minor": 5
}
